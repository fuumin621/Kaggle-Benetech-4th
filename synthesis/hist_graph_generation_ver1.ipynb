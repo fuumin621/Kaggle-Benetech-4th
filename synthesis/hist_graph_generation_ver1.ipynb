{
 "cells": [
  {
   "cell_type": "code",
   "execution_count": 1,
   "id": "2d68a9f7",
   "metadata": {
    "tags": []
   },
   "outputs": [
    {
     "name": "stderr",
     "output_type": "stream",
     "text": [
      "2023-07-05 01:14:21.601945: W tensorflow/compiler/xla/stream_executor/platform/default/dso_loader.cc:64] Could not load dynamic library 'libnvinfer.so.7'; dlerror: libnvinfer.so.7: cannot open shared object file: No such file or directory; LD_LIBRARY_PATH: /opt/conda/lib/python3.10/site-packages/cv2/../../lib64:/usr/local/cuda/lib64:/usr/local/cuda/lib:/usr/local/lib/x86_64-linux-gnu:/usr/local/nvidia/lib:/usr/local/nvidia/lib64:/usr/local/nvidia/lib:/usr/local/nvidia/lib64:/opt/conda/lib\n",
      "2023-07-05 01:14:21.603235: W tensorflow/compiler/xla/stream_executor/platform/default/dso_loader.cc:64] Could not load dynamic library 'libnvinfer_plugin.so.7'; dlerror: libnvinfer_plugin.so.7: cannot open shared object file: No such file or directory; LD_LIBRARY_PATH: /opt/conda/lib/python3.10/site-packages/cv2/../../lib64:/usr/local/cuda/lib64:/usr/local/cuda/lib:/usr/local/lib/x86_64-linux-gnu:/usr/local/nvidia/lib:/usr/local/nvidia/lib64:/usr/local/nvidia/lib:/usr/local/nvidia/lib64:/opt/conda/lib\n",
      "2023-07-05 01:14:21.603254: W tensorflow/compiler/tf2tensorrt/utils/py_utils.cc:38] TF-TRT Warning: Cannot dlopen some TensorRT libraries. If you would like to use Nvidia GPU with TensorRT, please make sure the missing libraries mentioned above are installed properly.\n",
      "/opt/conda/lib/python3.10/site-packages/scipy/__init__.py:146: UserWarning: A NumPy version >=1.16.5 and <1.23.0 is required for this version of SciPy (detected version 1.23.5\n",
      "  warnings.warn(f\"A NumPy version >={np_minversion} and <{np_maxversion}\"\n"
     ]
    }
   ],
   "source": [
    "import matplotlib.pyplot as plt\n",
    "import matplotlib.ticker as ticker\n",
    "from matplotlib.ticker import MultipleLocator\n",
    "import random\n",
    "import numpy as np\n",
    "import pandas as pd\n",
    "from typing import List, Dict, Union\n",
    "import yaml\n",
    "from bisect import bisect_left\n",
    "from tqdm import tqdm\n",
    "import calendar\n",
    "import os\n",
    "import math\n",
    "from PIL import Image\n",
    "import cv2\n",
    "# from transformers import Pix2StructProcessor, Pix2StructForConditionalGeneration, AutoConfig\n",
    "import torch\n",
    "from transformers import AutoProcessor, Pix2StructForConditionalGeneration\n",
    "import gc\n",
    "import warnings\n",
    "warnings.filterwarnings(\"ignore\")"
   ]
  },
  {
   "cell_type": "code",
   "execution_count": 2,
   "id": "6cccd591",
   "metadata": {
    "tags": []
   },
   "outputs": [],
   "source": [
    "chart_type = \"histogram\"\n",
    "version = 1"
   ]
  },
  {
   "cell_type": "markdown",
   "id": "c3333e6f",
   "metadata": {},
   "source": [
    "ver1.1 : gtの小数点を丸め処理"
   ]
  },
  {
   "cell_type": "code",
   "execution_count": 3,
   "id": "870b3bd8",
   "metadata": {
    "tags": []
   },
   "outputs": [],
   "source": [
    "save_dir = f\"./../input/benetech-synthesis-4th/{chart_type}_images_ver{version}\"\n",
    "os.makedirs(save_dir, exist_ok=True)\n",
    "processor = AutoProcessor.from_pretrained(\"google/deplot\")"
   ]
  },
  {
   "cell_type": "code",
   "execution_count": 4,
   "id": "3977a4f5",
   "metadata": {
    "tags": []
   },
   "outputs": [],
   "source": [
    "def seed_everything(seed):\n",
    "    random.seed(seed)\n",
    "    os.environ['PYTHONHASHSEED'] = str(seed)\n",
    "    np.random.seed(seed)"
   ]
  },
  {
   "cell_type": "code",
   "execution_count": 5,
   "id": "dbeeb839",
   "metadata": {
    "tags": []
   },
   "outputs": [],
   "source": [
    "def round_float(value: Union[int, float, str]) -> Union[str, float]:\n",
    "    if isinstance(value, float):\n",
    "        value = str(value)\n",
    "\n",
    "        if \".\" in value:\n",
    "            integer, decimal = value.split(\".\")\n",
    "            if abs(float(integer)) >= 100:\n",
    "                return integer\n",
    "            elif abs(float(integer)) < 100 and abs(float(integer)) >= 10:\n",
    "                decimal = decimal[:1]\n",
    "            elif abs(float(integer)) < 10 and abs(float(integer)) >= 1:\n",
    "                decimal = decimal[:2]\n",
    "            else:\n",
    "                decimal = decimal[:4]\n",
    "\n",
    "            value = integer + \".\" + decimal\n",
    "    return value"
   ]
  },
  {
   "cell_type": "code",
   "execution_count": 6,
   "id": "89455b29",
   "metadata": {
    "tags": []
   },
   "outputs": [],
   "source": [
    "def get_x_values(num, bins):\n",
    "    \n",
    "    y_list = []\n",
    "    r = np.random.rand()\n",
    "            \n",
    "    # 0固定 ~ 10小数\n",
    "    if r < 0.1:\n",
    "        a = 0\n",
    "        b = bins\n",
    "        \n",
    "    # 0固定 ~ 10整数\n",
    "    elif r < 0.3:\n",
    "        a = 0\n",
    "        b = 2*bins\n",
    "        \n",
    "    # 0固定 ~ 100 整数\n",
    "    elif r < 0.4:\n",
    "        a = 0\n",
    "        b = 5*bins\n",
    "        \n",
    "    # 0固定 ~ 10000整数\n",
    "    elif r < 0.6:\n",
    "        a = 0\n",
    "        b = 10*bins\n",
    "        \n",
    "    # 0 ~ 10000 整数\n",
    "    elif r < 0.7:\n",
    "        a = 0\n",
    "        b = 20*bins\n",
    "        \n",
    "    # 100000~ 10000000 整数\n",
    "    else:\n",
    "        a = 0\n",
    "        b = 100*bins\n",
    "        \n",
    "    for _ in range(num):\n",
    "        y = random.randint(a, b)\n",
    "        y_list.append(y)\n",
    "        \n",
    "    bin_edges = [b//bins*i for i in range(bins)]\n",
    "    \n",
    "    return y_list, bin_edges"
   ]
  },
  {
   "cell_type": "code",
   "execution_count": 7,
   "id": "e5a2891f",
   "metadata": {
    "tags": []
   },
   "outputs": [],
   "source": [
    "# ヒストグラムのxラベルは数字\n",
    "def get_x_label(source):\n",
    "    \n",
    "    if source == \"None\":\n",
    "        return \"\"\n",
    "    \n",
    "    val = []\n",
    "    with open(f\"{source}\", \"r\") as f:\n",
    "        for line in f:\n",
    "            val.append(line.strip())\n",
    "    return random.choice(val)"
   ]
  },
  {
   "cell_type": "code",
   "execution_count": 8,
   "id": "6eb43a4a",
   "metadata": {
    "tags": []
   },
   "outputs": [],
   "source": [
    "def get_y_label(source):\n",
    "    \n",
    "    if source == \"None\":\n",
    "        return \"\"\n",
    "    \n",
    "    val = []\n",
    "    with open(f\"{source}\", \"r\") as f:\n",
    "        for line in f:\n",
    "            val.append(line.strip())\n",
    "    return random.choice(val)"
   ]
  },
  {
   "cell_type": "code",
   "execution_count": 9,
   "id": "2ee355bb",
   "metadata": {
    "tags": []
   },
   "outputs": [],
   "source": [
    "def get_title(source):\n",
    "    val = []\n",
    "    with open(f\"{source}\", \"r\") as f:\n",
    "        for line in f:\n",
    "            val.append(line.strip())\n",
    "    return random.choice(val)"
   ]
  },
  {
   "cell_type": "code",
   "execution_count": 10,
   "id": "92d51e61",
   "metadata": {
    "tags": []
   },
   "outputs": [],
   "source": [
    "def get_font(source):\n",
    "    val = []\n",
    "    with open(f\"{source}\", \"r\") as f:\n",
    "        for line in f:\n",
    "            val.append(line.strip())\n",
    "    return random.choice(val)"
   ]
  },
  {
   "cell_type": "code",
   "execution_count": 11,
   "id": "27dc6a5e",
   "metadata": {
    "tags": []
   },
   "outputs": [],
   "source": [
    "def comma_format_func(value, tick_number):\n",
    "    return f'{int(value):,}'\n",
    "\n",
    "def dollar_format_func(value, tick_number):\n",
    "    return f'${int(value):,}'\n",
    "\n",
    "def yen_format_func(value, tick_number):\n",
    "    return f'¥{int(value):,}'\n",
    "\n",
    "def euro_format_func(value, tick_number):\n",
    "    return f'€{int(value):,}'\n",
    "\n",
    "def percent_format_func(value, tick_number):\n",
    "    if type(value) == float:\n",
    "        return f'{value:.2%}'\n",
    "    else:\n",
    "        return f'{value}%'"
   ]
  },
  {
   "cell_type": "code",
   "execution_count": 12,
   "id": "7cbb11df",
   "metadata": {
    "tags": []
   },
   "outputs": [],
   "source": [
    "# with open('graph_generation_ver2.yaml') as file:\n",
    "with open('graph_generation_ver4.yaml') as file:\n",
    "    data_gen = yaml.safe_load(file)"
   ]
  },
  {
   "cell_type": "code",
   "execution_count": 13,
   "id": "ecffdd0d",
   "metadata": {
    "tags": []
   },
   "outputs": [],
   "source": [
    "def generate_graph(data, idx):\n",
    "    # データ点数\n",
    "    x_rand = np.random.rand()\n",
    "    # 頻度が0のケース多め    \n",
    "    if x_rand < 0.3:\n",
    "        bins = random.randint(3, 10)\n",
    "        num_points = random.randint(bins+1, 50)\n",
    "            \n",
    "    # ポイント数普通\n",
    "    elif x_rand < 0.6:\n",
    "        bins = random.randint(3, 10)\n",
    "        num_points = random.randint(bins+1, 500)\n",
    "            \n",
    "    # ポイント数多め\n",
    "    else:\n",
    "        bins = random.randint(3, 10)\n",
    "        num_points = random.randint(bins+1, 5000)\n",
    "        \n",
    "    \n",
    "    # データ作成\n",
    "    x_label_source = random.choice([\"numericals.txt\" ,\"measurements.txt\"])\n",
    "    x_label = get_x_label(x_label_source)\n",
    "    #print(x_label)\n",
    "    y_label_source = random.choices(data[\"numerical_label\"][\"value\"], k=1, weights=data[\"numerical_label\"][\"weight\"])[0]\n",
    "    y_label = get_y_label(y_label_source)\n",
    "    #print(y_label)\n",
    "    \n",
    "    x_values, bin_edges = get_x_values(num_points, bins) \n",
    "    \n",
    "    # フォントとフォントサイズの設定\n",
    "    fontsize = random.choices(data[\"fontsize\"][\"value\"], k=1, weights=data[\"fontsize\"][\"weight\"])[0]\n",
    "    plt.rcParams['font.size'] = fontsize\n",
    "    \n",
    "    font_source = random.choices(data[\"font\"][\"value\"], k=1, weights=data[\"font\"][\"weight\"])[0]\n",
    "    font = get_font(font_source)\n",
    "    #print(font)\n",
    "        \n",
    "    # グラフのサイズを指定 例：4.56=456 pixel\n",
    "    size1 = random.randint(400, 800)\n",
    "    size2 = random.randint(300, size1)\n",
    "    size1 /= 100\n",
    "    size2 /= 100\n",
    "    fig, ax = plt.subplots(figsize=(size1, size2))\n",
    "    \n",
    "    color = random.choices(data[\"colors\"][\"value\"], k=1, weights=data[\"colors\"][\"weight\"])[0]\n",
    "    edgecolor = random.choices(data[\"colors\"][\"value\"], k=1, weights=data[\"colors\"][\"weight\"])[0]\n",
    "    linewidth = random.choices([0,1,2,3], k=1, weights=[0.1, 0.4, 0.4, 0.1])[0]\n",
    "    \n",
    "    #ax.bar(x_values, y_values, width=barwidth, color=color, edgecolor=edgecolor, linewidth=linewidth)\n",
    "    y_values, _, _ = ax.hist(x_values, bins=bin_edges, color=color, edgecolor=edgecolor, linewidth=linewidth)\n",
    "    y_values = y_values.astype(int)\n",
    "    \n",
    "    #  y-tickにフォント設定\n",
    "    for label in ax.get_yticklabels():\n",
    "        label.set_fontproperties(font)\n",
    "    \n",
    "    plt.xticks(bin_edges)\n",
    "    \n",
    "    # ラベルにフォント設定\n",
    "    if x_label:\n",
    "        ax.set_xlabel(x_label, fontname=font, labelpad=20)\n",
    "    if y_label:\n",
    "        ax.set_ylabel(y_label, fontname=font, labelpad=20)\n",
    "    \n",
    "    # グラフタイトル\n",
    "    title_source = random.choices(data[\"title\"][\"value\"], k=1, weights=data[\"title\"][\"weight\"])[0]\n",
    "    if title_source != \"None\":\n",
    "        title = get_title(title_source)\n",
    "        ax.set_title(title, fontname=font)\n",
    "    else:\n",
    "        title = \"\"\n",
    "    \n",
    "    # 背景色\n",
    "    if color != \"k\":\n",
    "        background_color = random.choices(data[\"background_color\"][\"value\"], k=1, weights=data[\"background_color\"][\"weight\"])[0]\n",
    "        ax.set_facecolor(background_color)\n",
    "                \n",
    "    # 画像の保存\n",
    "    id = str(idx).zfill(8)\n",
    "    path = os.path.join(save_dir, f\"{id}.jpg\")\n",
    "    fig.savefig(path, bbox_inches='tight')\n",
    "    \n",
    "    # 画質を落とす\n",
    "    image = Image.open(path)\n",
    "    quality = random.randint(10, 100)\n",
    "    image.save(path, quality=quality)\n",
    "    \n",
    "    # if idx % 1 == 0:\n",
    "        # plt.show()\n",
    "        #print(font)\n",
    "        # print(size1, size2)\n",
    "    \n",
    "#     img = cv2.imread(path)\n",
    "#     print(img.shape)\n",
    "    \n",
    "    plt.close()\n",
    "    #plt.show()\n",
    "    \n",
    "    \n",
    "    # -------------------- gt作成 --------------------\n",
    "    \n",
    "    y_values = [int(y) for y in y_values]\n",
    "    x_values = [str(x) for x in x_values]\n",
    "        \n",
    "    # gt文字列を作成\n",
    "    \n",
    "    # ヒストグラムだけxがyより多くなる例外ケース\n",
    "    if len(bin_edges) != len(y_values):\n",
    "        y_values.append(\"\")\n",
    "    \n",
    "    gt_string = []\n",
    "    for x, y in zip(bin_edges, y_values):\n",
    "        gt_string.append(f\"{x} | {y}\")\n",
    "    gt_string = \"<0x0A>\".join(gt_string)\n",
    "    gt_string += processor.tokenizer.eos_token\n",
    "    \n",
    "    \n",
    "    df = pd.DataFrame({\"id\": idx, \"ground_truth\": gt_string, \"fold\": -2, \"x\": [x_values], \"y\": [y_values], \"source\": \"synthesis\", \"chart-type\": chart_type, \"image_path\":path[3:]})\n",
    "    gc.collect()\n",
    "    return df"
   ]
  },
  {
   "cell_type": "code",
   "execution_count": 14,
   "id": "a7484592",
   "metadata": {
    "tags": []
   },
   "outputs": [
    {
     "name": "stderr",
     "output_type": "stream",
     "text": [
      "100%|██████████| 1000/1000 [00:17<00:00, 56.24it/s]\n"
     ]
    }
   ],
   "source": [
    "seed_everything(42)\n",
    "from multiprocessing import Pool\n",
    "import multiprocessing\n",
    "num_cores = multiprocessing.cpu_count()\n",
    "def _generate_graph(idx):\n",
    "    return generate_graph(data_gen,idx)\n",
    "\n",
    "num = 1000\n",
    "args = list(range(num))\n",
    "run = _generate_graph\n",
    "\n",
    "with Pool(processes=num_cores) as pool:\n",
    "    imap = pool.imap_unordered(run,args)\n",
    "    df_list = list(tqdm(imap, total=len(args)))\n",
    "df = pd.concat(df_list).reset_index(drop=True)\n",
    "df.to_csv(f\"./../input/benetech-synthesis-4th/graph_synthesis_{chart_type}_{num}_ver{version}.csv\", index=False)"
   ]
  },
  {
   "cell_type": "code",
   "execution_count": null,
   "id": "513771f5-5ec2-47da-a794-5373f7b021e7",
   "metadata": {},
   "outputs": [],
   "source": []
  },
  {
   "cell_type": "code",
   "execution_count": null,
   "id": "86d5bf39-e200-4356-b07a-2cac939861c2",
   "metadata": {},
   "outputs": [],
   "source": []
  },
  {
   "cell_type": "code",
   "execution_count": null,
   "id": "ba0b060c",
   "metadata": {},
   "outputs": [],
   "source": []
  }
 ],
 "metadata": {
  "kernelspec": {
   "display_name": "Python 3 (ipykernel)",
   "language": "python",
   "name": "python3"
  },
  "language_info": {
   "codemirror_mode": {
    "name": "ipython",
    "version": 3
   },
   "file_extension": ".py",
   "mimetype": "text/x-python",
   "name": "python",
   "nbconvert_exporter": "python",
   "pygments_lexer": "ipython3",
   "version": "3.10.10"
  }
 },
 "nbformat": 4,
 "nbformat_minor": 5
}
